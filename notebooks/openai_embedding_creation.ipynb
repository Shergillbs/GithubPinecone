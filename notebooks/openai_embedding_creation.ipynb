```python
# Import necessary libraries
import os
import openai
import pandas as pd
from src.github_repo_extractor import extract_github_repo

# Define the OpenAI API Key
OPENAI_API_KEY = os.getenv('OPENAI_API_KEY')

# Initialize the OpenAI API
openai.api_key = OPENAI_API_KEY

# Define the function to create embeddings using OpenAI model
def create_openai_embedding(repo_data):
    # Initialize an empty list to store the embeddings
    embeddings = []
    
    # Loop through each repository data
    for data in repo_data:
        # Generate the embedding for the repository data
        response = openai.Embedding.create(
            model="text-davinci-002",
            texts=[data]
        )
        
        # Append the embedding to the list
        embeddings.append(response['embeddings'][0])
    
    # Convert the list of embeddings to a DataFrame
    embeddings_df = pd.DataFrame(embeddings)
    
    # Return the DataFrame
    return embeddings_df

# Extract the GitHub repository data
repo_data = extract_github_repo()

# Create the embeddings using OpenAI model
embeddings = create_openai_embedding(repo_data)

# Save the embeddings to a CSV file
embeddings.to_csv('embeddings.csv', index=False)
```