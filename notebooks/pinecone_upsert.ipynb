```python
# Import necessary libraries
import os
import pandas as pd
from src.pinecone_upserter import upsert_to_pinecone

# Load Pinecone API Key
PINECONE_API_KEY = os.getenv('PINECONE_API_KEY')

# Load the Embedding Data
embedding_data = pd.read_csv('data/embedding_data.csv')

# Define the Upsert Data Schema
upsert_data_schema = {
    "id": "string",
    "vector": "list"
}

# Validate the data against the Upsert Data Schema
assert set(embedding_data.columns) == set(upsert_data_schema.keys()), "Data schema mismatch. Please check the Upsert Data Schema."

# Upsert data to Pinecone
upsert_to_pinecone(PINECONE_API_KEY, embedding_data)
```