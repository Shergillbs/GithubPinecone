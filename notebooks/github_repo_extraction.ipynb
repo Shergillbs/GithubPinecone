```python
# Import necessary libraries
import requests
import json
import os
from src.github_repo_extractor import extract_github_repo

# Define GitHub API Key
GITHUB_API_KEY = os.getenv('GITHUB_API_KEY')

# Define Repo Data Schema
REPO_DATA_SCHEMA = {
    "id": "",
    "name": "",
    "full_name": "",
    "html_url": "",
    "description": "",
    "created_at": "",
    "updated_at": "",
    "git_url": "",
    "ssh_url": "",
    "clone_url": "",
    "svn_url": "",
    "homepage": "",
    "size": "",
    "stargazers_count": "",
    "watchers_count": "",
    "language": "",
    "forks_count": "",
    "open_issues_count": "",
    "license": "",
    "forks": "",
    "open_issues": "",
    "watchers": "",
    "default_branch": ""
}

# Define the GitHub repository to extract
repo_to_extract = 'octocat/Hello-World'

# Call the function to extract GitHub repository
repo_data = extract_github_repo(GITHUB_API_KEY, repo_to_extract, REPO_DATA_SCHEMA)

# Print the extracted GitHub repository data
print(json.dumps(repo_data, indent=4))
```